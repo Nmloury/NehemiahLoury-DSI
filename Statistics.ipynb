{
 "cells": [
  {
   "cell_type": "code",
   "execution_count": 1,
   "metadata": {
    "collapsed": false
   },
   "outputs": [
    {
     "data": {
      "text/plain": [
       "0.813953488372093"
      ]
     },
     "execution_count": 1,
     "metadata": {},
     "output_type": "execute_result"
    }
   ],
   "source": [
    ".7/.86"
   ]
  },
  {
   "cell_type": "code",
   "execution_count": 2,
   "metadata": {
    "collapsed": false
   },
   "outputs": [
    {
     "data": {
      "text/plain": [
       "0.8860759493670886"
      ]
     },
     "execution_count": 2,
     "metadata": {},
     "output_type": "execute_result"
    }
   ],
   "source": [
    ".7/.79"
   ]
  },
  {
   "cell_type": "code",
   "execution_count": 4,
   "metadata": {
    "collapsed": false
   },
   "outputs": [
    {
     "name": "stdout",
     "output_type": "stream",
     "text": [
      "('Total tries:', 10000, 'Heads/Tails:', 4972, '/', 5028)\n",
      "('P(Head):', 0.4972)\n",
      "('P(Tail):', 0.5028)\n"
     ]
    }
   ],
   "source": [
    "from __future__ import division\n",
    "import random\n",
    "import math\n",
    "import pandas as pd\n",
    "import numpy as np\n",
    "import matplotlib.pyplot as plt\n",
    "from scipy import stats\n",
    "\n",
    "num_events = 10000\n",
    "df = pd.DataFrame(index = range(1,num_events), columns=['P(heads)','P(tails)']) \n",
    "heads = 0\n",
    "tails = 0\n",
    "tries = 0\n",
    "while tries < num_events:\n",
    "   tries += 1\n",
    "   coin = random.randint(1, 2)\n",
    "   if coin == 1:\n",
    "       heads += 1\n",
    "       df.loc[tries, 'P(heads)'] = heads/tries\n",
    "       df.loc[tries, 'P(tails)'] = tails/tries\n",
    "   if coin == 2:\n",
    "       tails += 1\n",
    "       df.loc[tries, 'P(tails)'] = tails/tries\n",
    "       df.loc[tries, 'P(heads)'] = heads/tries\n",
    "\n",
    "Num_Heads = heads\n",
    "Num_Tails = tails\n",
    "Prob_Heads = Num_Heads/tries\n",
    "Prob_Tails = Num_Tails/tries\n",
    "print(\"Total tries:\", tries, \"Heads/Tails:\", Num_Heads, \"/\", Num_Tails)\n",
    "print(\"P(Head):\",Prob_Heads)\n",
    "print(\"P(Tail):\", Prob_Tails)\n",
    "\n",
    "#stats\n",
    "np.mean(df)\n",
    "np.std(df)\n",
    "\n",
    "stats.norm.interval(0.68, loc=np.mean(df), scale=np.std(df))\n",
    "\n",
    "df.plot(style=['o','rx'])\n",
    "plt.show()"
   ]
  },
  {
   "cell_type": "code",
   "execution_count": null,
   "metadata": {
    "collapsed": true
   },
   "outputs": [],
   "source": []
  }
 ],
 "metadata": {
  "anaconda-cloud": {},
  "kernelspec": {
   "display_name": "Python [dsi]",
   "language": "python",
   "name": "Python [dsi]"
  },
  "language_info": {
   "codemirror_mode": {
    "name": "ipython",
    "version": 2
   },
   "file_extension": ".py",
   "mimetype": "text/x-python",
   "name": "python",
   "nbconvert_exporter": "python",
   "pygments_lexer": "ipython2",
   "version": "2.7.12"
  }
 },
 "nbformat": 4,
 "nbformat_minor": 0
}
